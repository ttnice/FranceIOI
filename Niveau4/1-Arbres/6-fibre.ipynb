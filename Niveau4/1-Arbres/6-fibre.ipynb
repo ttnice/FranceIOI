{
 "cells": [
  {
   "cell_type": "code",
   "execution_count": 3,
   "metadata": {},
   "outputs": [
    {
     "name": "stdout",
     "output_type": "stream",
     "text": [
      "[[5]]\n"
     ]
    }
   ],
   "source": [
    "def MM(a,b):\n",
    "    c = []\n",
    "    for i in range(0,len(a)):\n",
    "        temp=[]\n",
    "        for j in range(0,len(b[0])):\n",
    "            s = 0\n",
    "            for k in range(0,len(a[0])):\n",
    "                s += a[i][k]*b[k][j]\n",
    "            temp.append(s)\n",
    "        c.append(temp)\n",
    "    return c\n",
    "\n",
    "a=[[1,2]]\n",
    "b=[[1],[2]]\n",
    "print(MM(a,b))"
   ]
  },
  {
   "cell_type": "code",
   "execution_count": 4,
   "metadata": {},
   "outputs": [],
   "source": [
    "import numpy as np"
   ]
  },
  {
   "cell_type": "code",
   "execution_count": 15,
   "metadata": {},
   "outputs": [
    {
     "name": "stdout",
     "output_type": "stream",
     "text": [
      "1 8\n",
      "3 4\n",
      "8 3\n",
      "2 3\n",
      "2 6\n",
      "7 6\n",
      "5 6\n",
      "5 9\n",
      "6 0\n"
     ]
    }
   ],
   "source": [
    "N = 10\n",
    "A = np.array([[0]*N]*N)\n",
    "for i in range(N):\n",
    "    A[i, i] = 1\n",
    "\n",
    "for i in range(N-1):\n",
    "    a, b = input().split(\" \")\n",
    "    a = int(a)\n",
    "    b = int(b)\n",
    "    A[a, b] = 1\n",
    "    A[b, a] = 1\n",
    "B = A.copy()"
   ]
  },
  {
   "cell_type": "code",
   "execution_count": 37,
   "metadata": {
    "scrolled": false
   },
   "outputs": [
    {
     "name": "stdout",
     "output_type": "stream",
     "text": [
      "2\n",
      "3\n",
      "[[11  0 11  4  1 11 20 10  1  4]\n",
      " [ 0  9  4 10  4  0  1  0 12  0]\n",
      " [11  4 22 20 10 12 24 11 11  4]\n",
      " [ 4 10 20 30 16  4 13  4 20  1]\n",
      " [ 1  4 10 16 10  1  4  1 10  0]\n",
      " [11  0 12  4  1 20 24 11  1 12]\n",
      " [20  1 24 13  4 24 43 20  4 11]\n",
      " [10  0 11  4  1 11 20 11  1  4]\n",
      " [ 1 12 11 20 10  1  4  1 19  0]\n",
      " [ 4  0  4  1  0 12 11  4  0  9]]\n"
     ]
    }
   ],
   "source": [
    "a = 1\n",
    "B = np.dot(A, A)\n",
    "trouve = False\n",
    "origins = []\n",
    "while not trouve:\n",
    "    for i in range(N):\n",
    "        if sum(B[i] == 0) <= 0:\n",
    "            print(i)\n",
    "            trouve = True\n",
    "            origins.append(i)\n",
    "    a += 1\n",
    "    B = np.dot(B, A)\n",
    "print(a)\n",
    "print(B)"
   ]
  },
  {
   "cell_type": "code",
   "execution_count": 38,
   "metadata": {},
   "outputs": [
    {
     "data": {
      "text/plain": [
       "[2]"
      ]
     },
     "execution_count": 38,
     "metadata": {},
     "output_type": "execute_result"
    }
   ],
   "source": [
    "origins"
   ]
  },
  {
   "cell_type": "code",
   "execution_count": null,
   "metadata": {},
   "outputs": [],
   "source": [
    "for i in range(3):\n",
    "    B = np.dot(B, B)\n",
    "\n",
    "print(B)"
   ]
  },
  {
   "cell_type": "code",
   "execution_count": 24,
   "metadata": {
    "scrolled": false
   },
   "outputs": [
    {
     "data": {
      "text/plain": [
       "array([[0, 0, 0, 0, 0, 0, 1, 0, 0, 0],\n",
       "       [0, 0, 0, 0, 0, 0, 0, 0, 1, 0],\n",
       "       [0, 0, 0, 1, 0, 0, 1, 0, 0, 0],\n",
       "       [0, 0, 1, 0, 1, 0, 0, 0, 1, 0],\n",
       "       [0, 0, 0, 1, 0, 0, 0, 0, 0, 0],\n",
       "       [0, 0, 0, 0, 0, 0, 1, 0, 0, 1],\n",
       "       [1, 0, 1, 0, 0, 1, 0, 1, 0, 0],\n",
       "       [0, 0, 0, 0, 0, 0, 1, 0, 0, 0],\n",
       "       [0, 1, 0, 1, 0, 0, 0, 0, 0, 0],\n",
       "       [0, 0, 0, 0, 0, 1, 0, 0, 0, 0]])"
      ]
     },
     "execution_count": 24,
     "metadata": {},
     "output_type": "execute_result"
    }
   ],
   "source": [
    "C = A.copy()\n",
    "C"
   ]
  },
  {
   "cell_type": "code",
   "execution_count": 19,
   "metadata": {},
   "outputs": [
    {
     "ename": "TypeError",
     "evalue": "'bool' object is not iterable",
     "output_type": "error",
     "traceback": [
      "\u001b[0;31m---------------------------------------------------------------------------\u001b[0m",
      "\u001b[0;31mTypeError\u001b[0m                                 Traceback (most recent call last)",
      "\u001b[0;32m<ipython-input-19-d47061e6fec1>\u001b[0m in \u001b[0;36m<module>\u001b[0;34m\u001b[0m\n\u001b[1;32m      4\u001b[0m \u001b[0;32mwhile\u001b[0m \u001b[0;32mnot\u001b[0m \u001b[0mtrouve\u001b[0m\u001b[0;34m:\u001b[0m\u001b[0;34m\u001b[0m\u001b[0;34m\u001b[0m\u001b[0m\n\u001b[1;32m      5\u001b[0m     \u001b[0;32mfor\u001b[0m \u001b[0mi\u001b[0m \u001b[0;32min\u001b[0m \u001b[0mrange\u001b[0m\u001b[0;34m(\u001b[0m\u001b[0mN\u001b[0m\u001b[0;34m)\u001b[0m\u001b[0;34m:\u001b[0m\u001b[0;34m\u001b[0m\u001b[0;34m\u001b[0m\u001b[0m\n\u001b[0;32m----> 6\u001b[0;31m         \u001b[0;32mif\u001b[0m \u001b[0msum\u001b[0m\u001b[0;34m(\u001b[0m\u001b[0mB\u001b[0m\u001b[0;34m[\u001b[0m\u001b[0mi\u001b[0m\u001b[0;34m]\u001b[0m \u001b[0;34m==\u001b[0m \u001b[0;36m0\u001b[0m\u001b[0;34m)\u001b[0m \u001b[0;34m<=\u001b[0m \u001b[0;36m0\u001b[0m\u001b[0;34m:\u001b[0m\u001b[0;34m\u001b[0m\u001b[0;34m\u001b[0m\u001b[0m\n\u001b[0m\u001b[1;32m      7\u001b[0m             \u001b[0mprint\u001b[0m\u001b[0;34m(\u001b[0m\u001b[0mi\u001b[0m\u001b[0;34m)\u001b[0m\u001b[0;34m\u001b[0m\u001b[0;34m\u001b[0m\u001b[0m\n\u001b[1;32m      8\u001b[0m             \u001b[0mtrouve\u001b[0m \u001b[0;34m=\u001b[0m \u001b[0;32mTrue\u001b[0m\u001b[0;34m\u001b[0m\u001b[0;34m\u001b[0m\u001b[0m\n",
      "\u001b[0;31mTypeError\u001b[0m: 'bool' object is not iterable"
     ]
    }
   ],
   "source": [
    "a = 1\n",
    "B = MM(A, A)\n",
    "trouve = False\n",
    "while not trouve:\n",
    "    for i in range(N):\n",
    "        if sum(B[i] == 0) <= 0:\n",
    "            print(i)\n",
    "            trouve = True\n",
    "            break\n",
    "    a += 1\n",
    "    B = MM(A, A)\n",
    "print(a)\n",
    "print(B)"
   ]
  },
  {
   "cell_type": "code",
   "execution_count": 22,
   "metadata": {
    "scrolled": true
   },
   "outputs": [
    {
     "data": {
      "text/plain": [
       "[[1, 0, 0, 0, 0, 0, 1, 0, 0, 0],\n",
       " [0, 1, 0, 0, 0, 0, 0, 0, 1, 0],\n",
       " [0, 0, 1, 1, 0, 0, 1, 0, 0, 0],\n",
       " [0, 0, 1, 1, 1, 0, 0, 0, 1, 0],\n",
       " [0, 0, 0, 1, 1, 0, 0, 0, 0, 0],\n",
       " [0, 0, 0, 0, 0, 1, 1, 0, 0, 1],\n",
       " [1, 0, 1, 0, 0, 1, 1, 1, 0, 0],\n",
       " [0, 0, 0, 0, 0, 0, 1, 1, 0, 0],\n",
       " [0, 1, 0, 1, 0, 0, 0, 0, 1, 0],\n",
       " [0, 0, 0, 0, 0, 1, 0, 0, 0, 1]]"
      ]
     },
     "execution_count": 22,
     "metadata": {},
     "output_type": "execute_result"
    }
   ],
   "source": [
    "D = [list(i) for i in A]\n",
    "D"
   ]
  },
  {
   "cell_type": "code",
   "execution_count": 31,
   "metadata": {},
   "outputs": [],
   "source": [
    "for i in range(N):\n",
    "    A[i, i] = 1"
   ]
  },
  {
   "cell_type": "code",
   "execution_count": 32,
   "metadata": {},
   "outputs": [
    {
     "data": {
      "text/plain": [
       "array([[ 2920802608108563130,                    0,  1351912868111925223,\n",
       "                           0, -1568889739996637907, -2708873485185658070,\n",
       "                           0,  2920802608108563130, -8932939547727482627,\n",
       "                           0],\n",
       "       [                   0, -8327375632310129379,                    0,\n",
       "         6224066062541824557,                    0,                    0,\n",
       "        -8932939547727482627,                    0,                    0,\n",
       "        -7021907912681123603],\n",
       "       [ 1351912868111925223,                    0,  4272715476220488353,\n",
       "                           0,  2920802608108563130,  6804931040796410919,\n",
       "                           0,  1351912868111925223, -2708873485185658070,\n",
       "                           0],\n",
       "       [                   0,  6224066062541824557,                    0,\n",
       "        -4812183054953962892,                    0,                    0,\n",
       "        -9149916419612195311,                    0,                    0,\n",
       "        -8932939547727482627],\n",
       "       [-1568889739996637907,                    0,  2920802608108563130,\n",
       "                           0,  4489692348105201037, -8932939547727482627,\n",
       "                           0, -1568889739996637907,  6224066062541824557,\n",
       "                           0],\n",
       "       [-2708873485185658070,                    0,  6804931040796410919,\n",
       "                           0, -8932939547727482627,   388587043532640564,\n",
       "                           0, -2708873485185658070,  2491896613300945386,\n",
       "                           0],\n",
       "       [                   0, -8932939547727482627,                    0,\n",
       "        -9149916419612195311,                    0,                    0,\n",
       "         4484644599143393413,                    0,                    0,\n",
       "        -2708873485185658070],\n",
       "       [ 2920802608108563130,                    0,  1351912868111925223,\n",
       "                           0, -1568889739996637907, -2708873485185658070,\n",
       "                           0,  2920802608108563130, -8932939547727482627,\n",
       "                           0],\n",
       "       [-8932939547727482627,                    0, -2708873485185658070,\n",
       "                           0,  6224066062541824557,  2491896613300945386,\n",
       "                           0, -8932939547727482627, -2103309569768304822,\n",
       "                           0],\n",
       "       [                   0, -7021907912681123603,                    0,\n",
       "        -8932939547727482627,                    0,                    0,\n",
       "        -2708873485185658070,                    0,                    0,\n",
       "         3097460528718298634]])"
      ]
     },
     "execution_count": 32,
     "metadata": {},
     "output_type": "execute_result"
    }
   ],
   "source": [
    "B"
   ]
  }
 ],
 "metadata": {
  "kernelspec": {
   "display_name": "Python 3",
   "language": "python",
   "name": "python3"
  },
  "language_info": {
   "codemirror_mode": {
    "name": "ipython",
    "version": 3
   },
   "file_extension": ".py",
   "mimetype": "text/x-python",
   "name": "python",
   "nbconvert_exporter": "python",
   "pygments_lexer": "ipython3",
   "version": "3.8.5"
  },
  "varInspector": {
   "cols": {
    "lenName": 16,
    "lenType": 16,
    "lenVar": 40
   },
   "kernels_config": {
    "python": {
     "delete_cmd_postfix": "",
     "delete_cmd_prefix": "del ",
     "library": "var_list.py",
     "varRefreshCmd": "print(var_dic_list())"
    },
    "r": {
     "delete_cmd_postfix": ") ",
     "delete_cmd_prefix": "rm(",
     "library": "var_list.r",
     "varRefreshCmd": "cat(var_dic_list()) "
    }
   },
   "types_to_exclude": [
    "module",
    "function",
    "builtin_function_or_method",
    "instance",
    "_Feature"
   ],
   "window_display": true
  }
 },
 "nbformat": 4,
 "nbformat_minor": 2
}
