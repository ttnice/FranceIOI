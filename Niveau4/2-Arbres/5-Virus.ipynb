{
 "cells": [
  {
   "cell_type": "code",
   "execution_count": 9,
   "metadata": {},
   "outputs": [
    {
     "name": "stdout",
     "output_type": "stream",
     "text": [
      "8\n",
      "3 3 7 3 6 7 0 0\n",
      "?\n"
     ]
    }
   ],
   "source": [
    "n = int(input())\n",
    "ligne = input().split()\n",
    "ligne = [int(i) for i in ligne]\n",
    "code = input()"
   ]
  },
  {
   "cell_type": "code",
   "execution_count": 71,
   "metadata": {},
   "outputs": [],
   "source": [
    "table = [-1]*(n+1)\n",
    "def find(i):\n",
    "    if table[i] >= 0:\n",
    "        return table[i]\n",
    "    elif i == 0:\n",
    "        return 0\n",
    "    else:\n",
    "        p = 1 + find(ligne[i-1])\n",
    "        table[i] = p\n",
    "        return p"
   ]
  },
  {
   "cell_type": "code",
   "execution_count": 72,
   "metadata": {},
   "outputs": [],
   "source": [
    "def create(text, i, l):\n",
    "    while i<l and text[i] != \"?\":\n",
    "        i += 1\n",
    "    if i == l:\n",
    "        return [text]\n",
    "    a = 0\n",
    "    list_text = []\n",
    "    if i == 0:\n",
    "        a = 1\n",
    "    for c in range(a, 10):\n",
    "        text[i] = c\n",
    "        list_text += create(text.copy(), i+1, l)\n",
    "    return list_text"
   ]
  },
  {
   "cell_type": "code",
   "execution_count": 84,
   "metadata": {
    "scrolled": true
   },
   "outputs": [
    {
     "name": "stdout",
     "output_type": "stream",
     "text": [
      "7 8 3 6 1 2 4 5\n"
     ]
    }
   ],
   "source": [
    "text = list(code)\n",
    "l = len(text)\n",
    "t = [int(''.join(map(str, t))) for t in create(text.copy(), 0, l)]\n",
    "classement = [[] for i in range(n)]\n",
    "for i in t:\n",
    "    if i <= n:\n",
    "        a = find(i)\n",
    "        classement[a].append(i)\n",
    "text = []\n",
    "for a in range(n):\n",
    "    text += classement[a]\n",
    "print(' '.join(map(str, text)))"
   ]
  },
  {
   "cell_type": "markdown",
   "metadata": {},
   "source": [
    "# Correction"
   ]
  },
  {
   "cell_type": "code",
   "execution_count": 87,
   "metadata": {},
   "outputs": [
    {
     "name": "stdout",
     "output_type": "stream",
     "text": [
      "8\n",
      "3 3 7 3 6 7 0 0\n",
      "?\n"
     ]
    }
   ],
   "source": [
    "from queue import Queue\n",
    "nbContainers = int(input())\n",
    "fils = [[] for _ in range(nbContainers + 1)]\n",
    "for carton,container in enumerate(input().split(),1):\n",
    "  fils[ int(container) ].append(carton)\n",
    "masque = input()\n",
    "\n",
    "def compatible(carton,masque):\n",
    "  carton = str(carton)\n",
    "  if len(masque) != len(carton):\n",
    "     return False\n",
    "  for chiffreC,chiffreM in zip(carton,masque):\n",
    "     if chiffreC != chiffreM and chiffreM != \"?\":\n",
    "        return False\n",
    "  return True\n",
    "\n",
    "enAttente = Queue(nbContainers)\n",
    "for carton in fils[0]:\n",
    "  enAttente.put(carton)\n",
    "\n",
    "while not enAttente.empty():\n",
    "  container = enAttente.get()\n",
    "  for carton in fils[ container ]:\n",
    "     enAttente.put(carton)\n",
    "  if compatible(container,masque):\n",
    "     print(container,end=\" \")\n",
    "\n",
    "while not enAttente.empty():\n",
    "    print(enAttente.get())"
   ]
  }
 ],
 "metadata": {
  "kernelspec": {
   "display_name": "Python 3",
   "language": "python",
   "name": "python3"
  },
  "language_info": {
   "codemirror_mode": {
    "name": "ipython",
    "version": 3
   },
   "file_extension": ".py",
   "mimetype": "text/x-python",
   "name": "python",
   "nbconvert_exporter": "python",
   "pygments_lexer": "ipython3",
   "version": "3.8.5"
  },
  "varInspector": {
   "cols": {
    "lenName": 16,
    "lenType": 16,
    "lenVar": 40
   },
   "kernels_config": {
    "python": {
     "delete_cmd_postfix": "",
     "delete_cmd_prefix": "del ",
     "library": "var_list.py",
     "varRefreshCmd": "print(var_dic_list())"
    },
    "r": {
     "delete_cmd_postfix": ") ",
     "delete_cmd_prefix": "rm(",
     "library": "var_list.r",
     "varRefreshCmd": "cat(var_dic_list()) "
    }
   },
   "types_to_exclude": [
    "module",
    "function",
    "builtin_function_or_method",
    "instance",
    "_Feature"
   ],
   "window_display": false
  }
 },
 "nbformat": 4,
 "nbformat_minor": 2
}
